{
 "cells": [
  {
   "cell_type": "markdown",
   "metadata": {},
   "source": [
    "## Write a Numpy program to compute the multiplication of two given matrixes"
   ]
  },
  {
   "cell_type": "code",
   "execution_count": 1,
   "metadata": {},
   "outputs": [],
   "source": [
    "import numpy as np"
   ]
  },
  {
   "cell_type": "code",
   "execution_count": 3,
   "metadata": {},
   "outputs": [
    {
     "name": "stdout",
     "output_type": "stream",
     "text": [
      "[[23 28  5]\n",
      " [36 46 21]\n",
      " [54 70 37]]\n"
     ]
    }
   ],
   "source": [
    "mat1 =[[0, 1, 4], [2, 3, 5], [4, 5, 7]]\n",
    "mat2 = [[1, 2, 3], [3, 4, 5], [5, 6, 0]]\n",
    "x= np.array(mat1)\n",
    "y= np. array(mat2)\n",
    "multiplication=np.dot(x, y)\n",
    "print(multiplication)"
   ]
  },
  {
   "cell_type": "markdown",
   "metadata": {},
   "source": [
    "## Write a NumPy program to compute the determinant of a given square array"
   ]
  },
  {
   "cell_type": "code",
   "execution_count": null,
   "metadata": {},
   "outputs": [],
   "source": [
    "from numpy import linalg as LA"
   ]
  },
  {
   "cell_type": "code",
   "execution_count": 8,
   "metadata": {},
   "outputs": [
    {
     "name": "stdout",
     "output_type": "stream",
     "text": [
      "[[3 5 7]\n",
      " [2 7 9]\n",
      " [2 6 7]]\n",
      "-8.999999999999998\n"
     ]
    }
   ],
   "source": [
    "sq=np.array([\n",
    "    [3, 5, 7],\n",
    "    [2, 7, 9],\n",
    "    [2, 6, 7]\n",
    "])\n",
    "print (sq)\n",
    "print (np.linalg.det(sq))"
   ]
  },
  {
   "cell_type": "markdown",
   "metadata": {},
   "source": [
    "## Write a NumPy program to compute the cross product of two given vectors"
   ]
  },
  {
   "cell_type": "code",
   "execution_count": 9,
   "metadata": {},
   "outputs": [
    {
     "name": "stdout",
     "output_type": "stream",
     "text": [
      "[[ -5   4  -1]\n",
      " [ -5   5  -1]\n",
      " [-42  35  -1]]\n"
     ]
    }
   ],
   "source": [
    "cross=np.cross(x, y)\n",
    "print(cross)"
   ]
  },
  {
   "cell_type": "markdown",
   "metadata": {},
   "source": [
    "## Write a NumPy program to compute the condition number of a given matrix"
   ]
  },
  {
   "cell_type": "code",
   "execution_count": 10,
   "metadata": {},
   "outputs": [
    {
     "name": "stdout",
     "output_type": "stream",
     "text": [
      "41.52812222958721\n"
     ]
    }
   ],
   "source": [
    "condition=LA.cond(sq)\n",
    "print (condition)"
   ]
  },
  {
   "cell_type": "markdown",
   "metadata": {},
   "source": [
    "## Write a NumPy program to compute the inverse of a given matrix"
   ]
  },
  {
   "cell_type": "code",
   "execution_count": 11,
   "metadata": {},
   "outputs": [
    {
     "name": "stdout",
     "output_type": "stream",
     "text": [
      "[[ 0.55555556 -0.77777778  0.44444444]\n",
      " [-0.44444444 -0.77777778  1.44444444]\n",
      " [ 0.22222222  0.88888889 -1.22222222]]\n"
     ]
    }
   ],
   "source": [
    "inverse=LA.inv(sq)\n",
    "print (inverse)"
   ]
  }
 ],
 "metadata": {
  "kernelspec": {
   "display_name": "Python 3 (ipykernel)",
   "language": "python",
   "name": "python3"
  },
  "language_info": {
   "codemirror_mode": {
    "name": "ipython",
    "version": 3
   },
   "file_extension": ".py",
   "mimetype": "text/x-python",
   "name": "python",
   "nbconvert_exporter": "python",
   "pygments_lexer": "ipython3",
   "version": "3.9.12"
  }
 },
 "nbformat": 4,
 "nbformat_minor": 2
}
